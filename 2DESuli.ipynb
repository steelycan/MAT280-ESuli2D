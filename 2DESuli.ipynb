import numpy as np
import matplotlib.pyplot as plt
def plot_2d_circle(p):
    """
    Generate a plot of the unit circle in R^2 with respect to a specified norm p.

    Parameters:
    - p (int): The order of the norm.

    Returns:
    - None
    """
    # Define grid
    x = np.linspace(-1, 1, 100)
    y = np.linspace(-1, 1, 100)
    X, Y = np.meshgrid(x, y)
    # Compute norm of each point
    if p == 1:
        R = np.abs(X) + np.abs(Y)  # Compute 1-norm
    elif p == 2:
        R = np.sqrt(X**2 + Y**2)  # Compute 2-norm
    elif p == np.inf:
        R = np.maximum(np.abs(X), np.abs(Y))  # Compute infinity norm
    else:
        raise ValueError("Invalid value for p. Please use 1, 2, or np.inf.")
    # Plot
    plt.figure(figsize=(8, 6))
    plt.contourf(X, Y, R, levels=20, cmap='viridis')
    plt.colorbar(label='Norm')
    plt.title(f'Unit Circle with respect to {p}-norm')
    plt.xlabel('x')
    plt.ylabel('y')
    plt.axis('equal')
    plt.grid(True)
    plt.show()
# Test with different values of p
plot_2d_circle(1)  # Plot unit circle with respect to 1-norm
plot_2d_circle(2)  # Plot unit circle with respect to 2-norm
plot_2d_circle(np.inf)  # Plot unit circle with respect to infinity norm
